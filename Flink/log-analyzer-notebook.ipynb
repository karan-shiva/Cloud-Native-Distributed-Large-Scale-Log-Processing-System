﻿{
  "metadata": {
    "name": "log-analyzer-notebook",
    "kernelspec": {
      "language": "scala",
      "name": "spark2-scala"
    },
    "language_info": {
      "codemirror_mode": "text/x-scala",
      "file_extension": ".scala",
      "mimetype": "text/x-scala",
      "name": "scala",
      "pygments_lexer": "scala"
    }
  },
  "nbformat": 4,
  "nbformat_minor": 2,
  "cells": [
    {
      "cell_type": "code",
      "execution_count": 0,
      "metadata": {
        "autoscroll": "auto"
      },
      "outputs": [],
      "source": "%flink.ssql\nDROP TABLE IF EXISTS log_input;\nCREATE TABLE log_input (\n  `timestamp` STRING,\n  `service` STRING,\n  `status` INT,\n  `message` STRING,\n  `latency_ms` DOUBLE\n) WITH (\n  \u0027connector\u0027 \u003d \u0027kinesis\u0027,\n  \u0027stream\u0027 \u003d \u0027log-stream\u0027,\n  \u0027aws.region\u0027 \u003d \u0027us-east-2\u0027,\n  \u0027scan.stream.initpos\u0027 \u003d \u0027TRIM_HORIZON\u0027,\n  \u0027format\u0027 \u003d \u0027json\u0027\n);"
    },
    {
      "cell_type": "code",
      "execution_count": 1,
      "metadata": {
        "autoscroll": "auto"
      },
      "outputs": [],
      "source": "%flink.ssql\nselect * from log_input where status \u003e\u003d 500;"
    },
    {
      "cell_type": "code",
      "execution_count": 2,
      "metadata": {
        "autoscroll": "auto"
      },
      "outputs": [],
      "source": "%flink.ssql\nSELECT\n  service,\n  COUNT(*) AS error_count\nFROM log_input\nWHERE status \u003e\u003d 500\nGROUP BY service;"
    },
    {
      "cell_type": "code",
      "execution_count": 3,
      "metadata": {
        "autoscroll": "auto"
      },
      "outputs": [],
      "source": "%flink.ssql\nDROP TABLE IF EXISTS error_summary;\n\nCREATE TABLE error_summary (\n  service STRING,\n  window_start TIMESTAMP,\n  total_errors BIGINT,\n  avg_latency DOUBLE\n) WITH (\n  \u0027connector\u0027 \u003d \u0027jdbc\u0027,\n  \u0027url\u0027 \u003d \u0027jdbc:postgresql://postgresql-db.cvs46iucg3wp.us-east-2.rds.amazonaws.com:5432/postgres\u0027,\n  \u0027table-name\u0027 \u003d \u0027error_summary\u0027,\n  \u0027username\u0027 \u003d \u0027postgres\u0027,\n  \u0027password\u0027 \u003d \u0027postgrespass\u0027,\n  \u0027driver\u0027 \u003d \u0027org.postgresql.Driver\u0027\n);"
    },
    {
      "cell_type": "code",
      "execution_count": 4,
      "metadata": {
        "autoscroll": "auto"
      },
      "outputs": [],
      "source": "%flink.ssql\nSELECT\n  service,\n  TUMBLE_START(PROCTIME(), INTERVAL \u00271\u0027 MINUTE) AS window_start,\n  COUNT(*) AS total_errors,\n  AVG(latency_ms) AS avg_latency\nFROM log_input\nWHERE status \u003e\u003d 500\nGROUP BY\n  service,\n  TUMBLE(PROCTIME(), INTERVAL \u00271\u0027 MINUTE);"
    },
    {
      "cell_type": "code",
      "execution_count": 5,
      "metadata": {
        "autoscroll": "auto"
      },
      "outputs": [],
      "source": "%flink.ssql\nINSERT INTO error_summary\nSELECT\n  service,\n  TUMBLE_START(PROCTIME(), INTERVAL \u00271\u0027 MINUTE) AS window_start,\n  COUNT(*) AS total_errors,\n  AVG(latency_ms) AS avg_latency\nFROM log_input\nWHERE status \u003e\u003d 500\nGROUP BY\n  service,\n  TUMBLE(PROCTIME(), INTERVAL \u00271\u0027 MINUTE);"
    },
    {
      "cell_type": "code",
      "execution_count": 6,
      "metadata": {
        "autoscroll": "auto"
      },
      "outputs": [],
      "source": "%flink.ssql\nDROP TABLE IF EXISTS test;\nCREATE TABLE test (\n    status STRING\n) WITH (\n  \u0027connector\u0027 \u003d \u0027jdbc\u0027,\n  \u0027url\u0027 \u003d \u0027jdbc:postgresql://postgresql-db.cvs46iucg3wp.us-east-2.rds.amazonaws.com:5432/postgres\u0027,\n  \u0027table-name\u0027 \u003d \u0027test\u0027,\n  \u0027username\u0027 \u003d \u0027postgres\u0027,\n  \u0027password\u0027 \u003d \u0027postgrespass\u0027,\n  \u0027driver\u0027 \u003d \u0027org.postgresql.Driver\u0027\n);\nINSERT INTO test VALUES (\u00278\u0027);"
    },
    {
      "cell_type": "code",
      "execution_count": 7,
      "metadata": {
        "autoscroll": "auto"
      },
      "outputs": [],
      "source": "%flink.ssql\n"
    }
  ]
}